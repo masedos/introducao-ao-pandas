{
  "cells": [
    {
      "metadata": {},
      "cell_type": "markdown",
      "source": "<center><h2>Introdução ao Pandas</h2></center>"
    },
    {
      "metadata": {
        "trusted": true
      },
      "cell_type": "code",
      "source": "# importando a biblioteca pandas\nimport pandas as pd",
      "execution_count": 2,
      "outputs": []
    },
    {
      "metadata": {
        "trusted": true
      },
      "cell_type": "code",
      "source": "# Ajuda\nhelp(pd.Series.loc)",
      "execution_count": 66,
      "outputs": [
        {
          "output_type": "stream",
          "text": "Help on property:\n\n    Access a group of rows and columns by label(s) or a boolean array.\n    \n    ``.loc[]`` is primarily label based, but may also be used with a\n    boolean array.\n    \n    Allowed inputs are:\n    \n    - A single label, e.g. ``5`` or ``'a'``, (note that ``5`` is\n      interpreted as a *label* of the index, and **never** as an\n      integer position along the index).\n    - A list or array of labels, e.g. ``['a', 'b', 'c']``.\n    - A slice object with labels, e.g. ``'a':'f'``.\n    \n      .. warning:: Note that contrary to usual python slices, **both** the\n          start and the stop are included\n    \n    - A boolean array of the same length as the axis being sliced,\n      e.g. ``[True, False, True]``.\n    - A ``callable`` function with one argument (the calling Series, DataFrame\n      or Panel) and that returns valid output for indexing (one of the above)\n    \n    See more at :ref:`Selection by Label <indexing.label>`\n    \n    See Also\n    --------\n    DataFrame.at : Access a single value for a row/column label pair\n    DataFrame.iloc : Access group of rows and columns by integer position(s)\n    DataFrame.xs : Returns a cross-section (row(s) or column(s)) from the\n        Series/DataFrame.\n    Series.loc : Access group of values using labels\n    \n    Examples\n    --------\n    **Getting values**\n    \n    >>> df = pd.DataFrame([[1, 2], [4, 5], [7, 8]],\n    ...      index=['cobra', 'viper', 'sidewinder'],\n    ...      columns=['max_speed', 'shield'])\n    >>> df\n                max_speed  shield\n    cobra               1       2\n    viper               4       5\n    sidewinder          7       8\n    \n    Single label. Note this returns the row as a Series.\n    \n    >>> df.loc['viper']\n    max_speed    4\n    shield       5\n    Name: viper, dtype: int64\n    \n    List of labels. Note using ``[[]]`` returns a DataFrame.\n    \n    >>> df.loc[['viper', 'sidewinder']]\n                max_speed  shield\n    viper               4       5\n    sidewinder          7       8\n    \n    Single label for row and column\n    \n    >>> df.loc['cobra', 'shield']\n    2\n    \n    Slice with labels for row and single label for column. As mentioned\n    above, note that both the start and stop of the slice are included.\n    \n    >>> df.loc['cobra':'viper', 'max_speed']\n    cobra    1\n    viper    4\n    Name: max_speed, dtype: int64\n    \n    Boolean list with the same length as the row axis\n    \n    >>> df.loc[[False, False, True]]\n                max_speed  shield\n    sidewinder          7       8\n    \n    Conditional that returns a boolean Series\n    \n    >>> df.loc[df['shield'] > 6]\n                max_speed  shield\n    sidewinder          7       8\n    \n    Conditional that returns a boolean Series with column labels specified\n    \n    >>> df.loc[df['shield'] > 6, ['max_speed']]\n                max_speed\n    sidewinder          7\n    \n    Callable that returns a boolean Series\n    \n    >>> df.loc[lambda df: df['shield'] == 8]\n                max_speed  shield\n    sidewinder          7       8\n    \n    **Setting values**\n    \n    Set value for all items matching the list of labels\n    \n    >>> df.loc[['viper', 'sidewinder'], ['shield']] = 50\n    >>> df\n                max_speed  shield\n    cobra               1       2\n    viper               4      50\n    sidewinder          7      50\n    \n    Set value for an entire row\n    \n    >>> df.loc['cobra'] = 10\n    >>> df\n                max_speed  shield\n    cobra              10      10\n    viper               4      50\n    sidewinder          7      50\n    \n    Set value for an entire column\n    \n    >>> df.loc[:, 'max_speed'] = 30\n    >>> df\n                max_speed  shield\n    cobra              30      10\n    viper              30      50\n    sidewinder         30      50\n    \n    Set value for rows matching callable condition\n    \n    >>> df.loc[df['shield'] > 35] = 0\n    >>> df\n                max_speed  shield\n    cobra              30      10\n    viper               0       0\n    sidewinder          0       0\n    \n    **Getting values on a DataFrame with an index that has integer labels**\n    \n    Another example using integers for the index\n    \n    >>> df = pd.DataFrame([[1, 2], [4, 5], [7, 8]],\n    ...      index=[7, 8, 9], columns=['max_speed', 'shield'])\n    >>> df\n       max_speed  shield\n    7          1       2\n    8          4       5\n    9          7       8\n    \n    Slice with integer labels for rows. As mentioned above, note that both\n    the start and stop of the slice are included.\n    \n    >>> df.loc[7:9]\n       max_speed  shield\n    7          1       2\n    8          4       5\n    9          7       8\n    \n    **Getting values with a MultiIndex**\n    \n    A number of examples using a DataFrame with a MultiIndex\n    \n    >>> tuples = [\n    ...    ('cobra', 'mark i'), ('cobra', 'mark ii'),\n    ...    ('sidewinder', 'mark i'), ('sidewinder', 'mark ii'),\n    ...    ('viper', 'mark ii'), ('viper', 'mark iii')\n    ... ]\n    >>> index = pd.MultiIndex.from_tuples(tuples)\n    >>> values = [[12, 2], [0, 4], [10, 20],\n    ...         [1, 4], [7, 1], [16, 36]]\n    >>> df = pd.DataFrame(values, columns=['max_speed', 'shield'], index=index)\n    >>> df\n                         max_speed  shield\n    cobra      mark i           12       2\n               mark ii           0       4\n    sidewinder mark i           10      20\n               mark ii           1       4\n    viper      mark ii           7       1\n               mark iii         16      36\n    \n    Single label. Note this returns a DataFrame with a single index.\n    \n    >>> df.loc['cobra']\n             max_speed  shield\n    mark i          12       2\n    mark ii          0       4\n    \n    Single index tuple. Note this returns a Series.\n    \n    >>> df.loc[('cobra', 'mark ii')]\n    max_speed    0\n    shield       4\n    Name: (cobra, mark ii), dtype: int64\n    \n    Single label for row and column. Similar to passing in a tuple, this\n    returns a Series.\n    \n    >>> df.loc['cobra', 'mark i']\n    max_speed    12\n    shield        2\n    Name: (cobra, mark i), dtype: int64\n    \n    Single tuple. Note using ``[[]]`` returns a DataFrame.\n    \n    >>> df.loc[[('cobra', 'mark ii')]]\n                   max_speed  shield\n    cobra mark ii          0       4\n    \n    Single tuple for the index with a single label for the column\n    \n    >>> df.loc[('cobra', 'mark i'), 'shield']\n    2\n    \n    Slice from index tuple to single label\n    \n    >>> df.loc[('cobra', 'mark i'):'viper']\n                         max_speed  shield\n    cobra      mark i           12       2\n               mark ii           0       4\n    sidewinder mark i           10      20\n               mark ii           1       4\n    viper      mark ii           7       1\n               mark iii         16      36\n    \n    Slice from index tuple to index tuple\n    \n    >>> df.loc[('cobra', 'mark i'):('viper', 'mark ii')]\n                        max_speed  shield\n    cobra      mark i          12       2\n               mark ii          0       4\n    sidewinder mark i          10      20\n               mark ii          1       4\n    viper      mark ii          7       1\n    \n    Raises\n    ------\n    KeyError:\n        when any items are not found\n\n",
          "name": "stdout"
        }
      ]
    },
    {
      "metadata": {},
      "cell_type": "markdown",
      "source": "### Series"
    },
    {
      "metadata": {
        "trusted": true
      },
      "cell_type": "code",
      "source": "# Séries - um array unidimensional\ns = pd.Series([3, -5, 7, 4], index=['a', 'b', 'c', 'd'])\n#type(s)\ns",
      "execution_count": 23,
      "outputs": [
        {
          "output_type": "execute_result",
          "execution_count": 23,
          "data": {
            "text/plain": "a    3\nb   -5\nc    7\nd    4\ndtype: int64"
          },
          "metadata": {}
        }
      ]
    },
    {
      "metadata": {},
      "cell_type": "markdown",
      "source": "### Data Frame"
    },
    {
      "metadata": {
        "trusted": true
      },
      "cell_type": "code",
      "source": "# Dicionário para o Data Frame\ndata = {\n    'Country': ['Belgium', 'India', 'Brazil'],\n    'Capital': ['Brussels', 'New Delhi', 'Brasília'],\n    'Population': [11190846, 1303171035, 207847528]\n}\n\n#Data Frame - um array dimensional\ndf = pd.DataFrame(data, columns=['Country','Capital','Population'])\n# type(df)\ndf",
      "execution_count": 81,
      "outputs": [
        {
          "output_type": "execute_result",
          "execution_count": 81,
          "data": {
            "text/html": "<div>\n<style scoped>\n    .dataframe tbody tr th:only-of-type {\n        vertical-align: middle;\n    }\n\n    .dataframe tbody tr th {\n        vertical-align: top;\n    }\n\n    .dataframe thead th {\n        text-align: right;\n    }\n</style>\n<table border=\"1\" class=\"dataframe\">\n  <thead>\n    <tr style=\"text-align: right;\">\n      <th></th>\n      <th>Country</th>\n      <th>Capital</th>\n      <th>Population</th>\n    </tr>\n  </thead>\n  <tbody>\n    <tr>\n      <th>0</th>\n      <td>Belgium</td>\n      <td>Brussels</td>\n      <td>11190846</td>\n    </tr>\n    <tr>\n      <th>1</th>\n      <td>India</td>\n      <td>New Delhi</td>\n      <td>1303171035</td>\n    </tr>\n    <tr>\n      <th>2</th>\n      <td>Brazil</td>\n      <td>Brasília</td>\n      <td>207847528</td>\n    </tr>\n  </tbody>\n</table>\n</div>",
            "text/plain": "   Country    Capital  Population\n0  Belgium   Brussels    11190846\n1    India  New Delhi  1303171035\n2   Brazil   Brasília   207847528"
          },
          "metadata": {}
        }
      ]
    },
    {
      "metadata": {},
      "cell_type": "markdown",
      "source": "### Entrada / Saída"
    },
    {
      "metadata": {
        "trusted": true
      },
      "cell_type": "code",
      "source": "# lendo arquivos CSV\niris = pd.read_csv('data/iris.csv', nrows=5)\niris",
      "execution_count": 82,
      "outputs": [
        {
          "output_type": "execute_result",
          "execution_count": 82,
          "data": {
            "text/html": "<div>\n<style scoped>\n    .dataframe tbody tr th:only-of-type {\n        vertical-align: middle;\n    }\n\n    .dataframe tbody tr th {\n        vertical-align: top;\n    }\n\n    .dataframe thead th {\n        text-align: right;\n    }\n</style>\n<table border=\"1\" class=\"dataframe\">\n  <thead>\n    <tr style=\"text-align: right;\">\n      <th></th>\n      <th>sepal_length</th>\n      <th>sepal_width</th>\n      <th>petal_length</th>\n      <th>petal_width</th>\n      <th>species</th>\n    </tr>\n  </thead>\n  <tbody>\n    <tr>\n      <th>0</th>\n      <td>5.1</td>\n      <td>3.5</td>\n      <td>1.4</td>\n      <td>0.2</td>\n      <td>setosa</td>\n    </tr>\n    <tr>\n      <th>1</th>\n      <td>4.9</td>\n      <td>3.0</td>\n      <td>1.4</td>\n      <td>0.2</td>\n      <td>setosa</td>\n    </tr>\n    <tr>\n      <th>2</th>\n      <td>4.7</td>\n      <td>3.2</td>\n      <td>1.3</td>\n      <td>0.2</td>\n      <td>setosa</td>\n    </tr>\n    <tr>\n      <th>3</th>\n      <td>4.6</td>\n      <td>3.1</td>\n      <td>1.5</td>\n      <td>0.2</td>\n      <td>setosa</td>\n    </tr>\n    <tr>\n      <th>4</th>\n      <td>5.0</td>\n      <td>3.6</td>\n      <td>1.4</td>\n      <td>0.2</td>\n      <td>setosa</td>\n    </tr>\n  </tbody>\n</table>\n</div>",
            "text/plain": "   sepal_length  sepal_width  petal_length  petal_width species\n0           5.1          3.5           1.4          0.2  setosa\n1           4.9          3.0           1.4          0.2  setosa\n2           4.7          3.2           1.3          0.2  setosa\n3           4.6          3.1           1.5          0.2  setosa\n4           5.0          3.6           1.4          0.2  setosa"
          },
          "metadata": {}
        }
      ]
    },
    {
      "metadata": {
        "trusted": true
      },
      "cell_type": "code",
      "source": "# Para escrever arquivos CSV\ndf.to_csv('data/nova_iris.csv')",
      "execution_count": 83,
      "outputs": []
    },
    {
      "metadata": {
        "trusted": true
      },
      "cell_type": "code",
      "source": "# Lendo arquivos de Excel\nexcel = pd.read_excel('data/meu_arquivo.xlsx')\nexcel",
      "execution_count": 84,
      "outputs": [
        {
          "output_type": "execute_result",
          "execution_count": 84,
          "data": {
            "text/html": "<div>\n<style scoped>\n    .dataframe tbody tr th:only-of-type {\n        vertical-align: middle;\n    }\n\n    .dataframe tbody tr th {\n        vertical-align: top;\n    }\n\n    .dataframe thead th {\n        text-align: right;\n    }\n</style>\n<table border=\"1\" class=\"dataframe\">\n  <thead>\n    <tr style=\"text-align: right;\">\n      <th></th>\n      <th>Limão</th>\n      <th>Laranha</th>\n      <th>Pera</th>\n      <th>Uva</th>\n    </tr>\n  </thead>\n  <tbody>\n    <tr>\n      <th>0</th>\n      <td>23</td>\n      <td>10</td>\n      <td>1</td>\n      <td>3</td>\n    </tr>\n    <tr>\n      <th>1</th>\n      <td>1</td>\n      <td>9</td>\n      <td>4</td>\n      <td>4</td>\n    </tr>\n    <tr>\n      <th>2</th>\n      <td>6</td>\n      <td>5</td>\n      <td>8</td>\n      <td>6</td>\n    </tr>\n    <tr>\n      <th>3</th>\n      <td>0</td>\n      <td>4</td>\n      <td>5</td>\n      <td>9</td>\n    </tr>\n    <tr>\n      <th>4</th>\n      <td>5</td>\n      <td>7</td>\n      <td>4</td>\n      <td>25</td>\n    </tr>\n    <tr>\n      <th>5</th>\n      <td>7</td>\n      <td>15</td>\n      <td>2</td>\n      <td>5</td>\n    </tr>\n    <tr>\n      <th>6</th>\n      <td>6</td>\n      <td>4</td>\n      <td>1</td>\n      <td>9</td>\n    </tr>\n  </tbody>\n</table>\n</div>",
            "text/plain": "   Limão  Laranha  Pera  Uva\n0     23       10     1    3\n1      1        9     4    4\n2      6        5     8    6\n3      0        4     5    9\n4      5        7     4   25\n5      7       15     2    5\n6      6        4     1    9"
          },
          "metadata": {}
        }
      ]
    },
    {
      "metadata": {
        "trusted": true
      },
      "cell_type": "code",
      "source": "# Para escrever arquivos Excel\nmeu_excel = df.to_excel('data/meu_arquivo_excel.xlsx', sheet_name='Plan4', index=False)",
      "execution_count": 86,
      "outputs": []
    },
    {
      "metadata": {},
      "cell_type": "markdown",
      "source": "### Seleção"
    },
    {
      "metadata": {
        "trusted": true
      },
      "cell_type": "code",
      "source": "# Seleciona apenas um elemento da série\ns['b']",
      "execution_count": 89,
      "outputs": [
        {
          "output_type": "execute_result",
          "execution_count": 89,
          "data": {
            "text/plain": "-5"
          },
          "metadata": {}
        }
      ]
    },
    {
      "metadata": {
        "trusted": true
      },
      "cell_type": "code",
      "source": "# Seleciona um subconjunto do Data Frame\ndf[1:]",
      "execution_count": 90,
      "outputs": [
        {
          "output_type": "execute_result",
          "execution_count": 90,
          "data": {
            "text/html": "<div>\n<style scoped>\n    .dataframe tbody tr th:only-of-type {\n        vertical-align: middle;\n    }\n\n    .dataframe tbody tr th {\n        vertical-align: top;\n    }\n\n    .dataframe thead th {\n        text-align: right;\n    }\n</style>\n<table border=\"1\" class=\"dataframe\">\n  <thead>\n    <tr style=\"text-align: right;\">\n      <th></th>\n      <th>Country</th>\n      <th>Capital</th>\n      <th>Population</th>\n    </tr>\n  </thead>\n  <tbody>\n    <tr>\n      <th>1</th>\n      <td>India</td>\n      <td>New Delhi</td>\n      <td>1303171035</td>\n    </tr>\n    <tr>\n      <th>2</th>\n      <td>Brazil</td>\n      <td>Brasília</td>\n      <td>207847528</td>\n    </tr>\n  </tbody>\n</table>\n</div>",
            "text/plain": "  Country    Capital  Population\n1   India  New Delhi  1303171035\n2  Brazil   Brasília   207847528"
          },
          "metadata": {}
        }
      ]
    },
    {
      "metadata": {
        "trusted": true
      },
      "cell_type": "code",
      "source": "# Seleciona pela posição\ndf.iloc[[0],[0]]",
      "execution_count": 91,
      "outputs": [
        {
          "output_type": "execute_result",
          "execution_count": 91,
          "data": {
            "text/html": "<div>\n<style scoped>\n    .dataframe tbody tr th:only-of-type {\n        vertical-align: middle;\n    }\n\n    .dataframe tbody tr th {\n        vertical-align: top;\n    }\n\n    .dataframe thead th {\n        text-align: right;\n    }\n</style>\n<table border=\"1\" class=\"dataframe\">\n  <thead>\n    <tr style=\"text-align: right;\">\n      <th></th>\n      <th>Country</th>\n    </tr>\n  </thead>\n  <tbody>\n    <tr>\n      <th>0</th>\n      <td>Belgium</td>\n    </tr>\n  </tbody>\n</table>\n</div>",
            "text/plain": "   Country\n0  Belgium"
          },
          "metadata": {}
        }
      ]
    },
    {
      "metadata": {
        "trusted": true
      },
      "cell_type": "code",
      "source": "# Seleciona pela legenda\ndf.loc[[0], ['Country']]",
      "execution_count": 102,
      "outputs": [
        {
          "output_type": "execute_result",
          "execution_count": 102,
          "data": {
            "text/html": "<div>\n<style scoped>\n    .dataframe tbody tr th:only-of-type {\n        vertical-align: middle;\n    }\n\n    .dataframe tbody tr th {\n        vertical-align: top;\n    }\n\n    .dataframe thead th {\n        text-align: right;\n    }\n</style>\n<table border=\"1\" class=\"dataframe\">\n  <thead>\n    <tr style=\"text-align: right;\">\n      <th></th>\n      <th>Country</th>\n    </tr>\n  </thead>\n  <tbody>\n    <tr>\n      <th>0</th>\n      <td>Belgium</td>\n    </tr>\n  </tbody>\n</table>\n</div>",
            "text/plain": "   Country\n0  Belgium"
          },
          "metadata": {}
        }
      ]
    },
    {
      "metadata": {},
      "cell_type": "markdown",
      "source": "### SQL"
    },
    {
      "metadata": {
        "trusted": true
      },
      "cell_type": "code",
      "source": "# Lendo a partir de uma base de dados\nfrom sqlalchemy import create_engine\nengine = create_engine('sqlite:///data/presidents.sqlite')\npd.read_sql(\"SELECT * FROM presidents;\", engine)",
      "execution_count": 128,
      "outputs": [
        {
          "output_type": "execute_result",
          "execution_count": 128,
          "data": {
            "text/html": "<div>\n<style scoped>\n    .dataframe tbody tr th:only-of-type {\n        vertical-align: middle;\n    }\n\n    .dataframe tbody tr th {\n        vertical-align: top;\n    }\n\n    .dataframe thead th {\n        text-align: right;\n    }\n</style>\n<table border=\"1\" class=\"dataframe\">\n  <thead>\n    <tr style=\"text-align: right;\">\n      <th></th>\n      <th>cli_codigo</th>\n      <th>cli_nome</th>\n      <th>cli_cidade</th>\n      <th>cli_sexo</th>\n      <th>cli_obs</th>\n      <th>cli_email</th>\n    </tr>\n  </thead>\n  <tbody>\n    <tr>\n      <th>0</th>\n      <td>1</td>\n      <td>Barack Obama</td>\n      <td>Honolulu</td>\n      <td>M</td>\n      <td>None</td>\n      <td>obama@obama.com</td>\n    </tr>\n    <tr>\n      <th>1</th>\n      <td>2</td>\n      <td>Donald Trump</td>\n      <td>New York</td>\n      <td>M</td>\n      <td>None</td>\n      <td>trump@trump.com</td>\n    </tr>\n    <tr>\n      <th>2</th>\n      <td>3</td>\n      <td>George W. Bush</td>\n      <td>Dallas</td>\n      <td>M</td>\n      <td>None</td>\n      <td>bush@bush.com</td>\n    </tr>\n    <tr>\n      <th>3</th>\n      <td>4</td>\n      <td>Bill Clinton</td>\n      <td>Arkansas</td>\n      <td>M</td>\n      <td>None</td>\n      <td>clinton@clinton.com</td>\n    </tr>\n    <tr>\n      <th>4</th>\n      <td>5</td>\n      <td>Ronald Reagan</td>\n      <td>Dixon</td>\n      <td>M</td>\n      <td>None</td>\n      <td>reagan@reagan.com</td>\n    </tr>\n    <tr>\n      <th>5</th>\n      <td>6</td>\n      <td>Jimmy Carter</td>\n      <td>Plains</td>\n      <td>M</td>\n      <td>None</td>\n      <td>carter@carter.com</td>\n    </tr>\n    <tr>\n      <th>6</th>\n      <td>7</td>\n      <td>Gerald Ford</td>\n      <td>Omaha</td>\n      <td>M</td>\n      <td>None</td>\n      <td>ford@ford.com</td>\n    </tr>\n    <tr>\n      <th>7</th>\n      <td>8</td>\n      <td>Richard Nixon</td>\n      <td>Yorba Linda</td>\n      <td>M</td>\n      <td>None</td>\n      <td>nixon@nixon.com</td>\n    </tr>\n    <tr>\n      <th>8</th>\n      <td>9</td>\n      <td>Lyndon B. Johnson</td>\n      <td>Stonewall</td>\n      <td>M</td>\n      <td>None</td>\n      <td>lyndon@lyndon.ocm</td>\n    </tr>\n  </tbody>\n</table>\n</div>",
            "text/plain": "   cli_codigo           cli_nome   cli_cidade cli_sexo cli_obs  \\\n0           1       Barack Obama     Honolulu        M    None   \n1           2       Donald Trump     New York        M    None   \n2           3     George W. Bush       Dallas        M    None   \n3           4       Bill Clinton     Arkansas        M    None   \n4           5      Ronald Reagan        Dixon        M    None   \n5           6       Jimmy Carter       Plains        M    None   \n6           7        Gerald Ford        Omaha        M    None   \n7           8      Richard Nixon  Yorba Linda        M    None   \n8           9  Lyndon B. Johnson    Stonewall        M    None   \n\n             cli_email  \n0      obama@obama.com  \n1      trump@trump.com  \n2        bush@bush.com  \n3  clinton@clinton.com  \n4    reagan@reagan.com  \n5    carter@carter.com  \n6        ford@ford.com  \n7      nixon@nixon.com  \n8    lyndon@lyndon.ocm  "
          },
          "metadata": {}
        }
      ]
    },
    {
      "metadata": {},
      "cell_type": "markdown",
      "source": "#### fonte: https://assets.datacamp.com/blog_assets/PandasPythonForDataScience.pdf"
    }
  ],
  "metadata": {
    "kernelspec": {
      "name": "python36",
      "display_name": "Python 3.6",
      "language": "python"
    },
    "language_info": {
      "mimetype": "text/x-python",
      "nbconvert_exporter": "python",
      "name": "python",
      "pygments_lexer": "ipython3",
      "version": "3.6.6",
      "file_extension": ".py",
      "codemirror_mode": {
        "version": 3,
        "name": "ipython"
      }
    }
  },
  "nbformat": 4,
  "nbformat_minor": 2
}